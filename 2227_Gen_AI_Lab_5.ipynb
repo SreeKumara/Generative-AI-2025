{
  "nbformat": 4,
  "nbformat_minor": 0,
  "metadata": {
    "colab": {
      "provenance": [],
      "authorship_tag": "ABX9TyP9g+3T9HIypeBQJ+/qrIvc",
      "include_colab_link": true
    },
    "kernelspec": {
      "name": "python3",
      "display_name": "Python 3"
    },
    "language_info": {
      "name": "python"
    }
  },
  "cells": [
    {
      "cell_type": "markdown",
      "metadata": {
        "id": "view-in-github",
        "colab_type": "text"
      },
      "source": [
        "<a href=\"https://colab.research.google.com/github/SreeKumara/Generative-AI-2025/blob/main/2227_Gen_AI_Lab_5.ipynb\" target=\"_parent\"><img src=\"https://colab.research.google.com/assets/colab-badge.svg\" alt=\"Open In Colab\"/></a>"
      ]
    },
    {
      "cell_type": "code",
      "execution_count": 1,
      "metadata": {
        "id": "GhhtiI85qe9J"
      },
      "outputs": [],
      "source": [
        "import numpy as np\n",
        "def sigmoid(x):\n",
        "    return 1 / (1 + np.exp(-x))\n",
        "\n",
        "def sigmoid_derivative(x):\n",
        "    return x * (1 - x)"
      ]
    },
    {
      "cell_type": "code",
      "source": [
        "def train_ann(X, y, hidden_neurons=3, epochs=10000, lr=0.1):\n",
        "    np.random.seed(42)\n",
        "    input_neurons = X.shape[1]\n",
        "    output_neurons = 1\n",
        "\n",
        "\n",
        "    W1 = np.random.rand(input_neurons, hidden_neurons)\n",
        "    b1 = np.random.rand(hidden_neurons)\n",
        "    W2 = np.random.rand(hidden_neurons, output_neurons)\n",
        "    b2 = np.random.rand(output_neurons)\n",
        "\n",
        "    for epoch in range(epochs):\n",
        "        Z1 = np.dot(X, W1) + b1\n",
        "        A1 = sigmoid(Z1)\n",
        "        Z2 = np.dot(A1, W2) + b2\n",
        "        A2 = Z2\n",
        "        loss = np.mean((y - A2) ** 2)\n",
        "\n",
        "        dA2 = 2 * (A2 - y) / y.shape[0]\n",
        "        dW2 = np.dot(A1.T, dA2)\n",
        "        db2 = np.sum(dA2, axis=0)\n",
        "\n",
        "        dA1 = np.dot(dA2, W2.T) * sigmoid_derivative(A1)\n",
        "        dW1 = np.dot(X.T, dA1)\n",
        "        db1 = np.sum(dA1, axis=0)\n",
        "\n",
        "        W2 -= lr * dW2\n",
        "        b2 -= lr * db2\n",
        "        W1 -= lr * dW1\n",
        "        b1 -= lr * db1\n",
        "\n",
        "        if epoch % 1000 == 0:\n",
        "            print(f\"Epoch {epoch}, Loss: {loss:.6f}\")\n",
        "\n",
        "    return W1, b1, W2, b2\n",
        "\n",
        "def predict(X, W1, b1, W2, b2):\n",
        "    A1 = sigmoid(np.dot(X, W1) + b1)\n",
        "    A2 = np.dot(A1, W2) + b2\n",
        "    return A2\n",
        "\n",
        "X_train = np.array([[0.1, 0.2], [0.2, 0.3], [0.3, 0.4], [0.6, 0.7], [0.7, 0.8], [0.8, 0.9]])\n",
        "y_train = np.array([[0.3432], [0.3490], [0.3548], [0.3720], [0.3776], [0.3832]])\n",
        "\n",
        "W1, b1, W2, b2 = train_ann(X_train, y_train)\n",
        "X_test = np.array([[0.4, 0.5], [0.5, 0.6]])\n",
        "y_test = np.array([[0.3606], [0.3663]])\n",
        "\n",
        "y_pred = predict(X_test, W1, b1, W2, b2)\n",
        "print(\"Predictions on test data:\", y_pred)\n",
        "mse = np.mean((y_test - y_pred) ** 2)\n",
        "print(\"Test MSE:\", mse)\n",
        "x1, x2 = map(float, input(\"Enter x1 and x2: \").split())\n",
        "user_input = np.array([[x1, x2]])\n",
        "prediction = predict(user_input, W1, b1, W2, b2)\n",
        "print(\"Predicted output:\", prediction)"
      ],
      "metadata": {
        "colab": {
          "base_uri": "https://localhost:8080/"
        },
        "id": "9thkPYqQqumW",
        "outputId": "0125b86b-b06d-4f0d-93f2-8b2fcc91ddba"
      },
      "execution_count": 2,
      "outputs": [
        {
          "output_type": "stream",
          "name": "stdout",
          "text": [
            "Epoch 0, Loss: 2.707269\n",
            "Epoch 1000, Loss: 0.000001\n",
            "Epoch 2000, Loss: 0.000000\n",
            "Epoch 3000, Loss: 0.000000\n",
            "Epoch 4000, Loss: 0.000000\n",
            "Epoch 5000, Loss: 0.000000\n",
            "Epoch 6000, Loss: 0.000000\n",
            "Epoch 7000, Loss: 0.000000\n",
            "Epoch 8000, Loss: 0.000000\n",
            "Epoch 9000, Loss: 0.000000\n",
            "Predictions on test data: [[0.35968953]\n",
            " [0.36547319]]\n",
            "Test MSE: 7.56283831115076e-07\n",
            "Enter x1 and x2: 0.1 0.2\n",
            "Predicted output: [[0.34389316]]\n"
          ]
        }
      ]
    },
    {
      "cell_type": "code",
      "source": [],
      "metadata": {
        "id": "tkahvHtnqvqL"
      },
      "execution_count": null,
      "outputs": []
    }
  ]
}