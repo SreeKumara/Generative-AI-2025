{
  "nbformat": 4,
  "nbformat_minor": 0,
  "metadata": {
    "colab": {
      "provenance": [],
      "authorship_tag": "ABX9TyM/fp3sQ5VSm5z0IcUD92lo",
      "include_colab_link": true
    },
    "kernelspec": {
      "name": "python3",
      "display_name": "Python 3"
    },
    "language_info": {
      "name": "python"
    }
  },
  "cells": [
    {
      "cell_type": "markdown",
      "metadata": {
        "id": "view-in-github",
        "colab_type": "text"
      },
      "source": [
        "<a href=\"https://colab.research.google.com/github/SreeKumara/Generative-AI-2025/blob/main/2227_Gen_AI_Lab_3.ipynb\" target=\"_parent\"><img src=\"https://colab.research.google.com/assets/colab-badge.svg\" alt=\"Open In Colab\"/></a>"
      ]
    },
    {
      "cell_type": "code",
      "source": [
        "# 1. Finding the minimum of  f(x) = 5x**4 + 3x**2 + 10"
      ],
      "metadata": {
        "id": "Txi4QxBRANsQ"
      },
      "execution_count": null,
      "outputs": []
    },
    {
      "cell_type": "code",
      "execution_count": null,
      "metadata": {
        "colab": {
          "base_uri": "https://localhost:8080/"
        },
        "id": "SieLIpfr_AZr",
        "outputId": "123f2b95-3593-4ffc-c03f-601b93609380"
      },
      "outputs": [
        {
          "output_type": "stream",
          "name": "stdout",
          "text": [
            "Minimum value of x for f(x): 0.0\n"
          ]
        }
      ],
      "source": [
        "def minimize_f1(alpha=0.01, tol=1e-6, max_iter=10000):\n",
        "    x = 0.0  # initial guess\n",
        "    for _ in range(max_iter):\n",
        "        grad = 20 * x**3 + 6 * x  # derivative of f(x)\n",
        "        new_x = x - alpha * grad\n",
        "        if abs(new_x - x) < tol:\n",
        "            break\n",
        "        x = new_x\n",
        "    return x\n",
        "\n",
        "x_min = minimize_f1()\n",
        "print(f\"Minimum value of x for f(x): {x_min}\")"
      ]
    },
    {
      "cell_type": "code",
      "source": [
        "# 2. Finding the minimum of g(x,y) = 3x**2 + 5e**−y + 10"
      ],
      "metadata": {
        "id": "rf0u_JpXFTZN"
      },
      "execution_count": null,
      "outputs": []
    },
    {
      "cell_type": "code",
      "source": [
        "def minimize_f2(alpha=0.01, tol=1e-6, max_iter=10000):\n",
        "    x, y = 0.0, 0.0  # initial guesses\n",
        "    for _ in range(max_iter):\n",
        "        grad_x = 6 * x  # partial derivative w.r.t. x\n",
        "        grad_y = -5 * (2.71828**(-y))  # partial derivative w.r.t. y\n",
        "        new_x = x - alpha * grad_x\n",
        "        new_y = y - alpha * grad_y\n",
        "        if abs(new_x - x) < tol and abs(new_y - y) < tol:\n",
        "            break\n",
        "        x, y = new_x, new_y\n",
        "    return x, y\n",
        "\n",
        "x_min, y_min = minimize_f2()\n",
        "print(f\"Minimum values for g(x, y): x = {x_min}, y = {y_min}\")"
      ],
      "metadata": {
        "colab": {
          "base_uri": "https://localhost:8080/"
        },
        "id": "MsEdnBX2Fum3",
        "outputId": "8dd8af8f-3edf-4339-8967-dc078c135b9b"
      },
      "execution_count": null,
      "outputs": [
        {
          "output_type": "stream",
          "name": "stdout",
          "text": [
            "Minimum values for g(x, y): x = 0.0, y = 6.216920634657805\n"
          ]
        }
      ]
    },
    {
      "cell_type": "code",
      "source": [
        "# 3. Finding the minimun of z(x) = 1/(1 + e^−x)"
      ],
      "metadata": {
        "id": "W8kl8CfMFx80"
      },
      "execution_count": null,
      "outputs": []
    },
    {
      "cell_type": "code",
      "source": [
        "def minimize_f3(alpha=0.01, tol=1e-6, max_iter=10000):\n",
        "    x = 0.0  # initial guess\n",
        "    for _ in range(max_iter):\n",
        "        grad = (2.71828**(-x)) / ((1 + 2.71828**(-x))**2)  # derivative of sigmoid\n",
        "        new_x = x - alpha * grad\n",
        "        if abs(new_x - x) < tol:\n",
        "            break\n",
        "        x = new_x\n",
        "    return x\n",
        "\n",
        "x_min = minimize_f3()\n",
        "print(f\"Minimum value of x for z(x): {x_min}\")"
      ],
      "metadata": {
        "colab": {
          "base_uri": "https://localhost:8080/"
        },
        "id": "p4kJ5jk1GGi-",
        "outputId": "dcb02932-13b1-4f31-e651-97a27ec267df"
      },
      "execution_count": null,
      "outputs": [
        {
          "output_type": "stream",
          "name": "stdout",
          "text": [
            "Minimum value of x for z(x): -4.510915611762465\n"
          ]
        }
      ]
    },
    {
      "cell_type": "code",
      "source": [
        "# 4. Finding optimal M and C for the model"
      ],
      "metadata": {
        "id": "R3KRLSS7GHkB"
      },
      "execution_count": null,
      "outputs": []
    },
    {
      "cell_type": "code",
      "source": [
        "def minimize_se(alpha=0.01, tol=1e-6, max_iter=10000):\n",
        "    M, C = 0.0, 0.0  # initial guesses\n",
        "    input_val = 2.0\n",
        "    expected_output = 0.5\n",
        "\n",
        "    for _ in range(max_iter):\n",
        "        predicted_output = M * input_val + C\n",
        "        error = expected_output - predicted_output\n",
        "        grad_M = -2 * error * input_val\n",
        "        grad_C = -2 * error\n",
        "\n",
        "        new_M = M - alpha * grad_M\n",
        "        new_C = C - alpha * grad_C\n",
        "\n",
        "        if abs(new_M - M) < tol and abs(new_C - C) < tol:\n",
        "            break\n",
        "\n",
        "        M, C = new_M, new_C\n",
        "\n",
        "    return M, C\n",
        "\n",
        "M_opt, C_opt = minimize_se()\n",
        "print(f\"Optimal values: M = {M_opt}, C = {C_opt}\")"
      ],
      "metadata": {
        "colab": {
          "base_uri": "https://localhost:8080/"
        },
        "id": "pWKFw9VnGeSR",
        "outputId": "b8359c62-df25-4505-8472-e2169c09d191"
      },
      "execution_count": null,
      "outputs": [
        {
          "output_type": "stream",
          "name": "stdout",
          "text": [
            "Optimal values: M = 0.1999900040083894, C = 0.0999950020041947\n"
          ]
        }
      ]
    },
    {
      "cell_type": "code",
      "source": [],
      "metadata": {
        "id": "dyb6-cYkGg5p"
      },
      "execution_count": null,
      "outputs": []
    }
  ]
}