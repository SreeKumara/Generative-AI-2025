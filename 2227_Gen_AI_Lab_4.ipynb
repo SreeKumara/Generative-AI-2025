{
  "nbformat": 4,
  "nbformat_minor": 0,
  "metadata": {
    "colab": {
      "provenance": [],
      "authorship_tag": "ABX9TyP40eyGNAsBzpNHkLt3zpm7",
      "include_colab_link": true
    },
    "kernelspec": {
      "name": "python3",
      "display_name": "Python 3"
    },
    "language_info": {
      "name": "python"
    }
  },
  "cells": [
    {
      "cell_type": "markdown",
      "metadata": {
        "id": "view-in-github",
        "colab_type": "text"
      },
      "source": [
        "<a href=\"https://colab.research.google.com/github/SreeKumara/Generative-AI-2025/blob/main/2227_Gen_AI_Lab_4.ipynb\" target=\"_parent\"><img src=\"https://colab.research.google.com/assets/colab-badge.svg\" alt=\"Open In Colab\"/></a>"
      ]
    },
    {
      "cell_type": "code",
      "source": [
        "# Q1"
      ],
      "metadata": {
        "id": "H3klWo27F3rR"
      },
      "execution_count": 1,
      "outputs": []
    },
    {
      "cell_type": "code",
      "execution_count": 2,
      "metadata": {
        "id": "F1Tt5MTGFcxO"
      },
      "outputs": [],
      "source": [
        "import numpy as np\n",
        "\n",
        "X_train = np.array([\n",
        "    [0.1, 0.2, 0.3],\n",
        "    [0.2, 0.3, 0.4],\n",
        "    [0.3, 0.4, 0.5],\n",
        "    [0.5, 0.6, 0.7],\n",
        "    [0.1, 0.3, 0.5],\n",
        "    [0.2, 0.4, 0.6],\n",
        "    [0.3, 0.5, 0.7],\n",
        "    [0.4, 0.6, 0.8],\n",
        "    [0.5, 0.7, 0.1]\n",
        "])\n",
        "\n",
        "y_train = np.array([0.14, 0.20, 0.26, 0.38, 0.22, 0.28, 0.34, 0.40, 0.22])"
      ]
    },
    {
      "cell_type": "code",
      "source": [
        "X_test = np.array([\n",
        "    [0.6, 0.7, 0.8],\n",
        "    [0.7, 0.8, 0.9]\n",
        "])\n",
        "\n",
        "y_test = np.array([0.44, 0.50])"
      ],
      "metadata": {
        "id": "wC1hob35GDzA"
      },
      "execution_count": 3,
      "outputs": []
    },
    {
      "cell_type": "code",
      "source": [
        "for epoch in range(epochs):\n",
        "    y_pred = np.dot(X_train, weights) + bias\n",
        "    error = y_pred - y_train\n",
        "    mse = np.mean(error ** 2)\n",
        "\n",
        "    d_weights = (2 / len(X_train)) * np.dot(X_train.T, error)\n",
        "    d_bias = (2 / len(X_train)) * np.sum(error)\n",
        "\n",
        "    weights -= learning_rate * d_weights\n",
        "    bias -= learning_rate * d_bias\n",
        "\n",
        "    if epoch % 100 == 0:\n",
        "        print(f\"Epoch {epoch}, MSE: {mse:.6f}\")"
      ],
      "metadata": {
        "colab": {
          "base_uri": "https://localhost:8080/"
        },
        "id": "Du0eyP5QGpzx",
        "outputId": "f1078d52-deda-4f03-e7af-d992a7d0b794"
      },
      "execution_count": 5,
      "outputs": [
        {
          "output_type": "stream",
          "name": "stdout",
          "text": [
            "Epoch 0, MSE: 1.555423\n",
            "Epoch 100, MSE: 0.006608\n",
            "Epoch 200, MSE: 0.003382\n",
            "Epoch 300, MSE: 0.002950\n",
            "Epoch 400, MSE: 0.002577\n",
            "Epoch 500, MSE: 0.002253\n",
            "Epoch 600, MSE: 0.001972\n",
            "Epoch 700, MSE: 0.001726\n",
            "Epoch 800, MSE: 0.001513\n",
            "Epoch 900, MSE: 0.001327\n"
          ]
        }
      ]
    },
    {
      "cell_type": "code",
      "source": [
        "y_test_pred = np.dot(X_test, weights) + bias\n",
        "test_mse = np.mean((y_test_pred - y_test) ** 2)\n",
        "print(f\"Final Training MSE: {mse:.6f}\")\n",
        "print(f\"Test MSE: {test_mse:.6f}\")"
      ],
      "metadata": {
        "colab": {
          "base_uri": "https://localhost:8080/"
        },
        "id": "87AJSOusGc-K",
        "outputId": "bc7fe229-8a18-4620-f3f1-47ef0e4cc7d0"
      },
      "execution_count": 6,
      "outputs": [
        {
          "output_type": "stream",
          "name": "stdout",
          "text": [
            "Final Training MSE: 0.001166\n",
            "Test MSE: 0.003659\n"
          ]
        }
      ]
    },
    {
      "cell_type": "code",
      "source": [
        "x1, x2, x3 = map(float, input(\"Enter x1, x2, x3 values separated by spaces: \").split())\n",
        "user_input = np.array([x1, x2, x3])\n",
        "prediction = np.dot(user_input, weights) + bias\n",
        "print(f\"Predicted output: {prediction:.6f}\")"
      ],
      "metadata": {
        "colab": {
          "base_uri": "https://localhost:8080/"
        },
        "id": "oIisd6XdG9ho",
        "outputId": "1d9141fb-f4c5-47b7-9186-df7af262728b"
      },
      "execution_count": 7,
      "outputs": [
        {
          "output_type": "stream",
          "name": "stdout",
          "text": [
            "Enter x1, x2, x3 values separated by spaces: 0.6 0.8 0.3\n",
            "Predicted output: 0.379592\n"
          ]
        }
      ]
    },
    {
      "cell_type": "code",
      "source": [
        "# Q2"
      ],
      "metadata": {
        "id": "SuaMXIKMHPaf"
      },
      "execution_count": 8,
      "outputs": []
    },
    {
      "cell_type": "code",
      "source": [
        "import numpy as np\n",
        "\n",
        "def sigmoid(x):\n",
        "    return 1 / (1 + np.exp(-x))\n",
        "\n",
        "def sigmoid_derivative(x):\n",
        "    return x * (1 - x)"
      ],
      "metadata": {
        "id": "ZFkE6U1GHRTw"
      },
      "execution_count": 9,
      "outputs": []
    },
    {
      "cell_type": "code",
      "source": [
        "X_train = np.array([\n",
        "    [0.1, 0.2, 0.3],\n",
        "    [0.2, 0.3, 0.4],\n",
        "    [0.3, 0.4, 0.5],\n",
        "    [0.5, 0.6, 0.7],\n",
        "    [0.1, 0.3, 0.5],\n",
        "    [0.2, 0.4, 0.6],\n",
        "    [0.3, 0.5, 0.7],\n",
        "    [0.4, 0.6, 0.8],\n",
        "    [0.5, 0.7, 0.1]\n",
        "])\n",
        "\n",
        "y_train = np.array([0.5349, 0.5498, 0.5646, 0.5939, 0.5548, 0.5695, 0.5842, 0.5987, 0.5548])"
      ],
      "metadata": {
        "id": "qoF24fatMhhR"
      },
      "execution_count": 10,
      "outputs": []
    },
    {
      "cell_type": "code",
      "source": [
        "X_test = np.array([\n",
        "    [0.6, 0.7, 0.8],\n",
        "    [0.7, 0.8, 0.9]\n",
        "])\n",
        "\n",
        "y_test = np.array([0.6083, 0.6225])"
      ],
      "metadata": {
        "id": "c0OlHQSZMl8Z"
      },
      "execution_count": 11,
      "outputs": []
    },
    {
      "cell_type": "code",
      "source": [
        "np.random.seed(42)\n",
        "weights = np.random.rand(3)\n",
        "bias = np.random.rand()\n",
        "\n",
        "learning_rate = 0.01\n",
        "epochs = 1000"
      ],
      "metadata": {
        "id": "a2bsEOBOMpQm"
      },
      "execution_count": 12,
      "outputs": []
    },
    {
      "cell_type": "code",
      "source": [
        "for epoch in range(epochs):\n",
        "\n",
        "    linear_output = np.dot(X_train, weights) + bias\n",
        "    y_pred = sigmoid(linear_output)\n",
        "\n",
        "    error = y_pred - y_train\n",
        "    mse = np.mean(error ** 2)\n",
        "\n",
        "    d_output = error * sigmoid_derivative(y_pred)\n",
        "    d_weights = np.dot(X_train.T, d_output) / len(X_train)\n",
        "    d_bias = np.sum(d_output) / len(X_train)\n",
        "\n",
        "    weights -= learning_rate * d_weights\n",
        "    bias -= learning_rate * d_bias\n",
        "\n",
        "    if epoch % 100 == 0:\n",
        "        print(f\"Epoch {epoch}, MSE: {mse:.6f}\")"
      ],
      "metadata": {
        "colab": {
          "base_uri": "https://localhost:8080/"
        },
        "id": "AaNS8m71MuOj",
        "outputId": "e9158135-88c9-4699-96fa-0d75ee72c632"
      },
      "execution_count": 13,
      "outputs": [
        {
          "output_type": "stream",
          "name": "stdout",
          "text": [
            "Epoch 0, MSE: 0.061706\n",
            "Epoch 100, MSE: 0.057679\n",
            "Epoch 200, MSE: 0.053658\n",
            "Epoch 300, MSE: 0.049672\n",
            "Epoch 400, MSE: 0.045748\n",
            "Epoch 500, MSE: 0.041914\n",
            "Epoch 600, MSE: 0.038199\n",
            "Epoch 700, MSE: 0.034627\n",
            "Epoch 800, MSE: 0.031223\n",
            "Epoch 900, MSE: 0.028006\n"
          ]
        }
      ]
    },
    {
      "cell_type": "code",
      "source": [
        "y_test_pred = sigmoid(np.dot(X_test, weights) + bias)\n",
        "test_mse = np.mean((y_test_pred - y_test) ** 2)\n",
        "print(f\"Final Training MSE: {mse:.6f}\")\n",
        "print(f\"Test MSE: {test_mse:.6f}\")"
      ],
      "metadata": {
        "colab": {
          "base_uri": "https://localhost:8080/"
        },
        "id": "2CmvdKUiM7Pt",
        "outputId": "a0c9598c-c2a8-401a-c8b6-72a4c735d355"
      },
      "execution_count": 14,
      "outputs": [
        {
          "output_type": "stream",
          "name": "stdout",
          "text": [
            "Final Training MSE: 0.025020\n",
            "Test MSE: 0.041004\n"
          ]
        }
      ]
    },
    {
      "cell_type": "code",
      "source": [
        "x1, x2, x3 = map(float, input(\"Enter x1, x2, x3 values separated by spaces: \").split())\n",
        "user_input = np.array([x1, x2, x3])\n",
        "prediction = sigmoid(np.dot(user_input, weights) + bias)\n",
        "print(f\"Predicted output: {prediction:.6f}\")"
      ],
      "metadata": {
        "colab": {
          "base_uri": "https://localhost:8080/"
        },
        "id": "RCIYMvHMM-Jh",
        "outputId": "3b194f25-7d6e-407d-b395-8ba3845c456b"
      },
      "execution_count": 15,
      "outputs": [
        {
          "output_type": "stream",
          "name": "stdout",
          "text": [
            "Enter x1, x2, x3 values separated by spaces: 0.6 0.8 0.3\n",
            "Predicted output: 0.772591\n"
          ]
        }
      ]
    }
  ]
}