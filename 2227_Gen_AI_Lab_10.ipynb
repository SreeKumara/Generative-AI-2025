{
  "nbformat": 4,
  "nbformat_minor": 0,
  "metadata": {
    "colab": {
      "provenance": [],
      "authorship_tag": "ABX9TyM58StUz5A52wFIbtE9bNbF",
      "include_colab_link": true
    },
    "kernelspec": {
      "name": "python3",
      "display_name": "Python 3"
    },
    "language_info": {
      "name": "python"
    }
  },
  "cells": [
    {
      "cell_type": "markdown",
      "metadata": {
        "id": "view-in-github",
        "colab_type": "text"
      },
      "source": [
        "<a href=\"https://colab.research.google.com/github/SreeKumara/Generative-AI-2025/blob/main/2227_Gen_AI_Lab_10.ipynb\" target=\"_parent\"><img src=\"https://colab.research.google.com/assets/colab-badge.svg\" alt=\"Open In Colab\"/></a>"
      ]
    },
    {
      "cell_type": "code",
      "execution_count": 2,
      "metadata": {
        "colab": {
          "base_uri": "https://localhost:8080/"
        },
        "id": "8AC8ZBHcvB3I",
        "outputId": "e69849df-2c46-48ff-f07f-252acd6109ff"
      },
      "outputs": [
        {
          "output_type": "stream",
          "name": "stdout",
          "text": [
            "Epoch 1/15\n",
            "79/79 - 10s - 123ms/step - accuracy: 0.8253 - loss: 0.6333 - val_accuracy: 0.9215 - val_loss: 0.2637\n",
            "Epoch 2/15\n",
            "79/79 - 8s - 99ms/step - accuracy: 0.9558 - loss: 0.1588 - val_accuracy: 0.9545 - val_loss: 0.1552\n",
            "Epoch 3/15\n",
            "79/79 - 7s - 84ms/step - accuracy: 0.9708 - loss: 0.1062 - val_accuracy: 0.9635 - val_loss: 0.1169\n",
            "Epoch 4/15\n",
            "79/79 - 11s - 137ms/step - accuracy: 0.9787 - loss: 0.0758 - val_accuracy: 0.9660 - val_loss: 0.0989\n",
            "Epoch 5/15\n",
            "79/79 - 11s - 140ms/step - accuracy: 0.9825 - loss: 0.0581 - val_accuracy: 0.9720 - val_loss: 0.0831\n",
            "Epoch 6/15\n",
            "79/79 - 10s - 127ms/step - accuracy: 0.9891 - loss: 0.0433 - val_accuracy: 0.9685 - val_loss: 0.0985\n",
            "Epoch 7/15\n",
            "79/79 - 7s - 87ms/step - accuracy: 0.9887 - loss: 0.0361 - val_accuracy: 0.9675 - val_loss: 0.1041\n",
            "Epoch 8/15\n",
            "79/79 - 10s - 129ms/step - accuracy: 0.9929 - loss: 0.0266 - val_accuracy: 0.9710 - val_loss: 0.0890\n",
            "Epoch 9/15\n",
            "79/79 - 8s - 98ms/step - accuracy: 0.9940 - loss: 0.0203 - val_accuracy: 0.9730 - val_loss: 0.0815\n",
            "Epoch 10/15\n",
            "79/79 - 7s - 88ms/step - accuracy: 0.9951 - loss: 0.0165 - val_accuracy: 0.9725 - val_loss: 0.0812\n",
            "Epoch 11/15\n",
            "79/79 - 8s - 102ms/step - accuracy: 0.9950 - loss: 0.0169 - val_accuracy: 0.9740 - val_loss: 0.0798\n",
            "Epoch 12/15\n",
            "79/79 - 10s - 130ms/step - accuracy: 0.9963 - loss: 0.0135 - val_accuracy: 0.9745 - val_loss: 0.0756\n",
            "Epoch 13/15\n",
            "79/79 - 11s - 134ms/step - accuracy: 0.9989 - loss: 0.0059 - val_accuracy: 0.9740 - val_loss: 0.0790\n",
            "Epoch 14/15\n",
            "79/79 - 8s - 107ms/step - accuracy: 0.9998 - loss: 0.0028 - val_accuracy: 0.9785 - val_loss: 0.0735\n",
            "Epoch 15/15\n",
            "79/79 - 8s - 102ms/step - accuracy: 1.0000 - loss: 0.0017 - val_accuracy: 0.9805 - val_loss: 0.0761\n",
            "\n",
            "Quick Training Accuracy: 1.0000\n",
            "Quick Testing Accuracy: 0.9805\n"
          ]
        }
      ],
      "source": [
        "import numpy as np\n",
        "import tensorflow as tf\n",
        "from tensorflow.keras.models import Sequential\n",
        "from tensorflow.keras.layers import Conv2D, MaxPooling2D, Flatten, Dense\n",
        "from tensorflow.keras.datasets import mnist\n",
        "from tensorflow.keras.utils import to_categorical\n",
        "\n",
        "# Load and preprocess MNIST data\n",
        "(x_train, y_train), (x_test, y_test) = mnist.load_data()\n",
        "x_train = x_train[:10000].reshape(-1, 28, 28, 1).astype('float32') / 255.0  # Use only 10k samples\n",
        "y_train = to_categorical(y_train[:10000], 10)\n",
        "x_test = x_test[:2000].reshape(-1, 28, 28, 1).astype('float32') / 255.0     # Use only 2k samples\n",
        "y_test = to_categorical(y_test[:2000], 10)\n",
        "\n",
        "# Build simplified CNN model\n",
        "model = Sequential([\n",
        "    Conv2D(33, kernel_size=(3, 3), activation='relu', input_shape=(28, 28, 1)),\n",
        "    MaxPooling2D(pool_size=(2, 2)),\n",
        "    Conv2D(64, kernel_size=(3, 3), activation='relu'),\n",
        "    MaxPooling2D(pool_size=(2, 2)),\n",
        "    Flatten(),\n",
        "    Dense(128, activation='relu'),\n",
        "    Dense(10, activation='softmax')\n",
        "])\n",
        "\n",
        "# Compile the model\n",
        "model.compile(optimizer='adam', loss='categorical_crossentropy', metrics=['accuracy'])\n",
        "\n",
        "# Train (only 5 epochs for speed)\n",
        "model.fit(x_train, y_train, epochs=15, batch_size=128, verbose=2, validation_data=(x_test, y_test))\n",
        "\n",
        "# Evaluate\n",
        "train_acc = model.evaluate(x_train, y_train, verbose=0)[1]\n",
        "test_acc = model.evaluate(x_test, y_test, verbose=0)[1]\n",
        "\n",
        "print(f\"\\nQuick Training Accuracy: {train_acc:.4f}\")\n",
        "print(f\"Quick Testing Accuracy: {test_acc:.4f}\")"
      ]
    }
  ]
}