{
  "nbformat": 4,
  "nbformat_minor": 0,
  "metadata": {
    "colab": {
      "provenance": [],
      "authorship_tag": "ABX9TyMata+/tu7C98bQJByBoOAP",
      "include_colab_link": true
    },
    "kernelspec": {
      "name": "python3",
      "display_name": "Python 3"
    },
    "language_info": {
      "name": "python"
    }
  },
  "cells": [
    {
      "cell_type": "markdown",
      "metadata": {
        "id": "view-in-github",
        "colab_type": "text"
      },
      "source": [
        "<a href=\"https://colab.research.google.com/github/SreeKumara/Generative-AI-2025/blob/main/2227_Gen_AI_Lab_2.ipynb\" target=\"_parent\"><img src=\"https://colab.research.google.com/assets/colab-badge.svg\" alt=\"Open In Colab\"/></a>"
      ]
    },
    {
      "cell_type": "code",
      "execution_count": 3,
      "metadata": {
        "id": "VfDeyMnjI0Bi"
      },
      "outputs": [],
      "source": [
        "# Case Study 1: Chocolate Manufacturing"
      ]
    },
    {
      "cell_type": "code",
      "source": [
        "from scipy.optimize import linprog\n",
        "\n",
        "c1 = [-6, -5]\n",
        "A1 = [[1, 1], [3, 2]]\n",
        "b1 = [5, 12]\n",
        "x_bounds1 = (0, None)\n",
        "y_bounds1 = (0, None)\n",
        "\n",
        "result1 = linprog(c1, A_ub=A1, b_ub=b1, bounds=[x_bounds1, y_bounds1], method=\"highs\")\n",
        "\n",
        "print(result1.x[0], result1.x[1], abs(result1.fun))"
      ],
      "metadata": {
        "colab": {
          "base_uri": "https://localhost:8080/"
        },
        "id": "dNlykg5dI09q",
        "outputId": "4ee2b3f5-d498-4390-e062-df3c4d00cfd8"
      },
      "execution_count": 4,
      "outputs": [
        {
          "output_type": "stream",
          "name": "stdout",
          "text": [
            "2.0 3.0 27.0\n"
          ]
        }
      ]
    },
    {
      "cell_type": "code",
      "source": [
        "# Case Study 2: Farming Problem"
      ],
      "metadata": {
        "id": "2UibITyOI13Z"
      },
      "execution_count": 5,
      "outputs": []
    },
    {
      "cell_type": "code",
      "source": [
        "from scipy.optimize import linprog\n",
        "\n",
        "c2 = [-50, -120]\n",
        "A2 = [[1, 1], [7000, 2000], [10, 30]]\n",
        "b2 = [110, 700000, 1200]\n",
        "w_bounds = (0, None)\n",
        "b_bounds = (0, None)\n",
        "\n",
        "result2 = linprog(c2, A_ub=A2, b_ub=b2, bounds=[w_bounds, b_bounds], method=\"highs\")\n",
        "\n",
        "print(result2.x[0], result2.x[1], abs(result2.fun))\n"
      ],
      "metadata": {
        "colab": {
          "base_uri": "https://localhost:8080/"
        },
        "id": "meBmkZRoI2it",
        "outputId": "84d7f936-ac9c-409f-985a-2727f14c65ca"
      },
      "execution_count": 6,
      "outputs": [
        {
          "output_type": "stream",
          "name": "stdout",
          "text": [
            "97.89473684210526 7.368421052631579 5778.9473684210525\n"
          ]
        }
      ]
    }
  ]
}