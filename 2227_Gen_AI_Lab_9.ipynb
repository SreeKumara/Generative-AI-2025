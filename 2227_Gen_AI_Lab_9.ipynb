{
  "nbformat": 4,
  "nbformat_minor": 0,
  "metadata": {
    "colab": {
      "provenance": [],
      "authorship_tag": "ABX9TyMJdDo6NAG9/WzYtlUqmn6k",
      "include_colab_link": true
    },
    "kernelspec": {
      "name": "python3",
      "display_name": "Python 3"
    },
    "language_info": {
      "name": "python"
    }
  },
  "cells": [
    {
      "cell_type": "markdown",
      "metadata": {
        "id": "view-in-github",
        "colab_type": "text"
      },
      "source": [
        "<a href=\"https://colab.research.google.com/github/SreeKumara/Generative-AI-2025/blob/main/2227_Gen_AI_Lab_9.ipynb\" target=\"_parent\"><img src=\"https://colab.research.google.com/assets/colab-badge.svg\" alt=\"Open In Colab\"/></a>"
      ]
    },
    {
      "cell_type": "code",
      "execution_count": 1,
      "metadata": {
        "colab": {
          "base_uri": "https://localhost:8080/"
        },
        "id": "SQf0POqGuMAb",
        "outputId": "6663609b-78ef-4aac-d543-ae5a95e5188d"
      },
      "outputs": [
        {
          "output_type": "stream",
          "name": "stdout",
          "text": [
            "Downloading data from https://storage.googleapis.com/tensorflow/tf-keras-datasets/mnist.npz\n",
            "\u001b[1m11490434/11490434\u001b[0m \u001b[32m━━━━━━━━━━━━━━━━━━━━\u001b[0m\u001b[37m\u001b[0m \u001b[1m0s\u001b[0m 0us/step\n"
          ]
        },
        {
          "output_type": "stream",
          "name": "stderr",
          "text": [
            "/usr/local/lib/python3.11/dist-packages/keras/src/layers/reshaping/flatten.py:37: UserWarning: Do not pass an `input_shape`/`input_dim` argument to a layer. When using Sequential models, prefer using an `Input(shape)` object as the first layer in the model instead.\n",
            "  super().__init__(**kwargs)\n"
          ]
        },
        {
          "output_type": "stream",
          "name": "stdout",
          "text": [
            "\n",
            "Training Model 1...\n",
            "Epoch 1/10\n",
            "469/469 - 5s - 11ms/step - accuracy: 0.0969 - loss: 2.3183 - val_accuracy: 0.1068 - val_loss: 2.3111\n",
            "Epoch 2/10\n",
            "469/469 - 3s - 6ms/step - accuracy: 0.1096 - loss: 2.3083 - val_accuracy: 0.1221 - val_loss: 2.3011\n",
            "Epoch 3/10\n",
            "469/469 - 3s - 6ms/step - accuracy: 0.1227 - loss: 2.2988 - val_accuracy: 0.1345 - val_loss: 2.2915\n",
            "Epoch 4/10\n",
            "469/469 - 5s - 10ms/step - accuracy: 0.1353 - loss: 2.2897 - val_accuracy: 0.1465 - val_loss: 2.2820\n",
            "Epoch 5/10\n",
            "469/469 - 4s - 9ms/step - accuracy: 0.1490 - loss: 2.2807 - val_accuracy: 0.1589 - val_loss: 2.2726\n",
            "Epoch 6/10\n",
            "469/469 - 3s - 7ms/step - accuracy: 0.1620 - loss: 2.2716 - val_accuracy: 0.1716 - val_loss: 2.2630\n",
            "Epoch 7/10\n",
            "469/469 - 1s - 3ms/step - accuracy: 0.1759 - loss: 2.2624 - val_accuracy: 0.1882 - val_loss: 2.2532\n",
            "Epoch 8/10\n",
            "469/469 - 3s - 5ms/step - accuracy: 0.1896 - loss: 2.2529 - val_accuracy: 0.2029 - val_loss: 2.2430\n",
            "Epoch 9/10\n",
            "469/469 - 2s - 3ms/step - accuracy: 0.2021 - loss: 2.2431 - val_accuracy: 0.2160 - val_loss: 2.2325\n",
            "Epoch 10/10\n",
            "469/469 - 3s - 5ms/step - accuracy: 0.2144 - loss: 2.2328 - val_accuracy: 0.2277 - val_loss: 2.2216\n",
            "Model 1 - Training Accuracy: 0.2207\n",
            "Model 1 - Testing Accuracy: 0.2277\n",
            "\n",
            "Training Model 2...\n",
            "Epoch 1/10\n",
            "469/469 - 3s - 7ms/step - accuracy: 0.1036 - loss: 2.3085 - val_accuracy: 0.1175 - val_loss: 2.2910\n",
            "Epoch 2/10\n",
            "469/469 - 2s - 4ms/step - accuracy: 0.1358 - loss: 2.2771 - val_accuracy: 0.1562 - val_loss: 2.2592\n",
            "Epoch 3/10\n",
            "469/469 - 2s - 4ms/step - accuracy: 0.1759 - loss: 2.2457 - val_accuracy: 0.2005 - val_loss: 2.2273\n",
            "Epoch 4/10\n",
            "469/469 - 2s - 4ms/step - accuracy: 0.2174 - loss: 2.2139 - val_accuracy: 0.2451 - val_loss: 2.1951\n",
            "Epoch 5/10\n",
            "469/469 - 3s - 6ms/step - accuracy: 0.2582 - loss: 2.1817 - val_accuracy: 0.2850 - val_loss: 2.1622\n",
            "Epoch 6/10\n",
            "469/469 - 2s - 4ms/step - accuracy: 0.2969 - loss: 2.1489 - val_accuracy: 0.3237 - val_loss: 2.1286\n",
            "Epoch 7/10\n",
            "469/469 - 2s - 5ms/step - accuracy: 0.3307 - loss: 2.1154 - val_accuracy: 0.3551 - val_loss: 2.0943\n",
            "Epoch 8/10\n",
            "469/469 - 2s - 4ms/step - accuracy: 0.3616 - loss: 2.0812 - val_accuracy: 0.3875 - val_loss: 2.0590\n",
            "Epoch 9/10\n",
            "469/469 - 2s - 4ms/step - accuracy: 0.3915 - loss: 2.0462 - val_accuracy: 0.4169 - val_loss: 2.0231\n",
            "Epoch 10/10\n",
            "469/469 - 3s - 7ms/step - accuracy: 0.4174 - loss: 2.0104 - val_accuracy: 0.4436 - val_loss: 1.9863\n",
            "Model 2 - Training Accuracy: 0.4296\n",
            "Model 2 - Testing Accuracy: 0.4436\n",
            "\n",
            "Best model based on test accuracy: Model 2\n"
          ]
        }
      ],
      "source": [
        "import numpy as np\n",
        "import tensorflow as tf\n",
        "from tensorflow.keras.models import Sequential\n",
        "from tensorflow.keras.layers import Dense, Flatten\n",
        "from tensorflow.keras.datasets import mnist\n",
        "from tensorflow.keras.utils import to_categorical\n",
        "from tensorflow.keras.optimizers import Adadelta\n",
        "\n",
        "# Load dataset\n",
        "(x_train, y_train), (x_test, y_test) = mnist.load_data()\n",
        "\n",
        "# Normalize the data\n",
        "x_train = x_train / 255.0\n",
        "x_test = x_test / 255.0\n",
        "\n",
        "# One-hot encode the labels\n",
        "y_train = to_categorical(y_train, 10)\n",
        "y_test = to_categorical(y_test, 10)\n",
        "\n",
        "# Initial model (Architecture from Tabela 1)\n",
        "def build_model_1():\n",
        "    model = Sequential([\n",
        "        Flatten(input_shape=(28, 28)),\n",
        "        Dense(32, activation='relu'),\n",
        "        Dense(32, activation='relu'),\n",
        "        Dense(32, activation='relu'),\n",
        "        Dense(10, activation='softmax')\n",
        "    ])\n",
        "    return model\n",
        "\n",
        "# Alternate architecture with tuning\n",
        "def build_model_2():\n",
        "    model = Sequential([\n",
        "        Flatten(input_shape=(28, 28)),\n",
        "        Dense(64, activation='relu'),\n",
        "        Dense(64, activation='relu'),\n",
        "        Dense(10, activation='softmax')\n",
        "    ])\n",
        "    return model\n",
        "\n",
        "# Compile, train and evaluate model\n",
        "def compile_train_evaluate(model, name=\"Model\"):\n",
        "    model.compile(optimizer=Adadelta(), loss='categorical_crossentropy', metrics=['accuracy'])\n",
        "    print(f\"\\nTraining {name}...\")\n",
        "    history = model.fit(x_train, y_train, epochs=10, batch_size=128, verbose=2, validation_data=(x_test, y_test))\n",
        "    train_loss, train_acc = model.evaluate(x_train, y_train, verbose=0)\n",
        "    test_loss, test_acc = model.evaluate(x_test, y_test, verbose=0)\n",
        "    print(f\"{name} - Training Accuracy: {train_acc:.4f}\")\n",
        "    print(f\"{name} - Testing Accuracy: {test_acc:.4f}\")\n",
        "    return model, history, test_acc\n",
        "\n",
        "# Train original model\n",
        "model1, hist1, acc1 = compile_train_evaluate(build_model_1(), \"Model 1\")\n",
        "\n",
        "# Train tuned model\n",
        "model2, hist2, acc2 = compile_train_evaluate(build_model_2(), \"Model 2\")\n",
        "\n",
        "# Choose the best model\n",
        "best_model = model1 if acc1 > acc2 else model2\n",
        "print(\"\\nBest model based on test accuracy:\", \"Model 1\" if acc1 > acc2 else \"Model 2\")"
      ]
    }
  ]
}