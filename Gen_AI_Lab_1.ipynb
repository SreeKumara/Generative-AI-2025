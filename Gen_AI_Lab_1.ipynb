{
  "nbformat": 4,
  "nbformat_minor": 0,
  "metadata": {
    "colab": {
      "provenance": [],
      "authorship_tag": "ABX9TyM5XVc0hhECPy5w209gvffD",
      "include_colab_link": true
    },
    "kernelspec": {
      "name": "python3",
      "display_name": "Python 3"
    },
    "language_info": {
      "name": "python"
    }
  },
  "cells": [
    {
      "cell_type": "markdown",
      "metadata": {
        "id": "view-in-github",
        "colab_type": "text"
      },
      "source": [
        "<a href=\"https://colab.research.google.com/github/SreeKumara/Generative-AI-2025/blob/main/Gen_AI_Lab_1.ipynb\" target=\"_parent\"><img src=\"https://colab.research.google.com/assets/colab-badge.svg\" alt=\"Open In Colab\"/></a>"
      ]
    },
    {
      "cell_type": "code",
      "execution_count": null,
      "metadata": {
        "id": "hz5KteyO57RA"
      },
      "outputs": [],
      "source": [
        "# Qno 1"
      ]
    },
    {
      "cell_type": "code",
      "source": [
        "import math\n",
        "from sklearn.metrics import mean_absolute_error, mean_squared_error"
      ],
      "metadata": {
        "id": "ZhrPrB-48ebW"
      },
      "execution_count": null,
      "outputs": []
    },
    {
      "cell_type": "code",
      "source": [
        "# Data\n",
        "y_actual = [20, 30, 40, 50, 60]\n",
        "y_pred = [20.5, 30.3, 40.2, 50.6, 60.7]"
      ],
      "metadata": {
        "id": "GTq33acz8hzi"
      },
      "execution_count": null,
      "outputs": []
    },
    {
      "cell_type": "code",
      "source": [
        "n = len(y_actual)\n",
        "mae = sum(abs(ya - yp) for ya, yp in zip(y_actual, y_pred)) / n\n",
        "mse = sum((ya - yp) ** 2 for ya, yp in zip(y_actual, y_pred)) / n\n",
        "rmse = math.sqrt(mse)\n",
        "\n",
        "print(f\"Mean Absolute Error (MAE): {mae}\")\n",
        "print(f\"Mean Squared Error (MSE): {mse}\")\n",
        "print(f\"Root Mean Squared Error (RMSE): {rmse}\")"
      ],
      "metadata": {
        "colab": {
          "base_uri": "https://localhost:8080/"
        },
        "id": "KuWzzXIm8jwJ",
        "outputId": "dcebfa07-420e-4ba6-d2c6-5ce05dd5ba55"
      },
      "execution_count": null,
      "outputs": [
        {
          "output_type": "stream",
          "name": "stdout",
          "text": [
            "Mean Absolute Error (MAE): 0.4600000000000016\n",
            "Mean Squared Error (MSE): 0.24600000000000147\n",
            "Root Mean Squared Error (RMSE): 0.49598387070549127\n"
          ]
        }
      ]
    },
    {
      "cell_type": "code",
      "source": [
        "# Using libraries\n",
        "mae_lib = mean_absolute_error(y_actual, y_pred)\n",
        "mse_lib = mean_squared_error(y_actual, y_pred)\n",
        "rmse_lib = math.sqrt(mse_lib)\n",
        "\n",
        "print(f\"Mean Absolute Error (MAE): {mae_lib}\")\n",
        "print(f\"Mean Squared Error (MSE): {mse_lib}\")\n",
        "print(f\"Root Mean Squared Error (RMSE): {rmse_lib}\")"
      ],
      "metadata": {
        "colab": {
          "base_uri": "https://localhost:8080/"
        },
        "id": "9o67XT2c8la2",
        "outputId": "0ed50514-10fa-47be-9fc6-2eff0acc0e2a"
      },
      "execution_count": null,
      "outputs": [
        {
          "output_type": "stream",
          "name": "stdout",
          "text": [
            "Mean Absolute Error (MAE): 0.4600000000000016\n",
            "Mean Squared Error (MSE): 0.24600000000000147\n",
            "Root Mean Squared Error (RMSE): 0.49598387070549127\n"
          ]
        }
      ]
    },
    {
      "cell_type": "code",
      "source": [
        "# Qno 2"
      ],
      "metadata": {
        "id": "NIKYBh-O9Ef1"
      },
      "execution_count": null,
      "outputs": []
    },
    {
      "cell_type": "code",
      "source": [
        "from sklearn.metrics import accuracy_score, precision_score, recall_score, f1_score"
      ],
      "metadata": {
        "id": "XMPYVnXg9Fmf"
      },
      "execution_count": null,
      "outputs": []
    },
    {
      "cell_type": "code",
      "source": [
        "y_actual_class = [0, 0, 1, 1, 2, 0, 0, 0, 1, 0, 2, 0, 0, 1, 1, 2, 2, 1, 0, 2, 1, 0, 2, 2]\n",
        "y_pred_class = [0, 0, 1, 0, 2, 0, 0, 1, 1, 2, 2, 2, 0, 2, 1, 0, 2, 2, 0, 2, 1, 2, 2, 2]"
      ],
      "metadata": {
        "id": "I8VHCt7e9Jl2"
      },
      "execution_count": null,
      "outputs": []
    },
    {
      "cell_type": "code",
      "source": [
        "def calculate_metrics(y_actual, y_pred, labels):\n",
        "    metrics = {}\n",
        "    total_correct = sum(ya == yp for ya, yp in zip(y_actual, y_pred))\n",
        "    metrics[\"accuracy\"] = total_correct / len(y_actual)\n",
        "\n",
        "    precision = []\n",
        "    recall = []\n",
        "    for label in labels:\n",
        "        tp = sum(1 for ya, yp in zip(y_actual, y_pred) if ya == label and yp == label)\n",
        "        fp = sum(1 for ya, yp in zip(y_actual, y_pred) if ya != label and yp == label)\n",
        "        fn = sum(1 for ya, yp in zip(y_actual, y_pred) if ya == label and yp != label)\n",
        "\n",
        "        precision.append(tp / (tp + fp) if tp + fp > 0 else 0)\n",
        "        recall.append(tp / (tp + fn) if tp + fn > 0 else 0)\n",
        "\n",
        "    metrics[\"precision\"] = sum(precision) / len(labels)\n",
        "    metrics[\"recall\"] = sum(recall) / len(labels)\n",
        "    metrics[\"f1\"] = 2 * (metrics[\"precision\"] * metrics[\"recall\"]) / (metrics[\"precision\"] + metrics[\"recall\"]) if metrics[\"precision\"] + metrics[\"recall\"] > 0 else 0\n",
        "\n",
        "    return metrics\n",
        "\n",
        "labels = [0, 1, 2]\n",
        "metrics_scratch = calculate_metrics(y_actual_class, y_pred_class, labels)"
      ],
      "metadata": {
        "id": "L-hD4_pJ9Mpd"
      },
      "execution_count": null,
      "outputs": []
    },
    {
      "cell_type": "code",
      "source": [
        "print(f\"Accuracy: {metrics_scratch['accuracy']}\")\n",
        "print(f\"Precision: {metrics_scratch['precision']}\")\n",
        "print(f\"Recall: {metrics_scratch['recall']}\")\n",
        "print(f\"F1 Score: {metrics_scratch['f1']}\")"
      ],
      "metadata": {
        "colab": {
          "base_uri": "https://localhost:8080/"
        },
        "id": "ioNsE4q49Tv1",
        "outputId": "3c76cb4e-f1cf-4b12-930f-dbe1f91b81d7"
      },
      "execution_count": null,
      "outputs": [
        {
          "output_type": "stream",
          "name": "stdout",
          "text": [
            "Accuracy: 0.6666666666666666\n",
            "Precision: 0.6984848484848486\n",
            "Recall: 0.6761904761904761\n",
            "F1 Score: 0.6871568781819136\n"
          ]
        }
      ]
    },
    {
      "cell_type": "code",
      "source": [
        "# Using libraries\n",
        "accuracy = accuracy_score(y_actual_class, y_pred_class)\n",
        "precision = precision_score(y_actual_class, y_pred_class, average=\"macro\")\n",
        "recall = recall_score(y_actual_class, y_pred_class, average=\"macro\")\n",
        "f1 = f1_score(y_actual_class, y_pred_class, average=\"macro\")"
      ],
      "metadata": {
        "id": "0m7_pCUn9WUp"
      },
      "execution_count": null,
      "outputs": []
    },
    {
      "cell_type": "code",
      "source": [
        "print(f\"Accuracy: {accuracy}\")\n",
        "print(f\"Precision: {precision}\")\n",
        "print(f\"Recall: {recall}\")\n",
        "print(f\"F1 Score: {f1}\")"
      ],
      "metadata": {
        "colab": {
          "base_uri": "https://localhost:8080/"
        },
        "id": "X-gneTqb9bes",
        "outputId": "248d08ca-6cd9-44c9-9df9-b7409461cda2"
      },
      "execution_count": null,
      "outputs": [
        {
          "output_type": "stream",
          "name": "stdout",
          "text": [
            "Accuracy: 0.6666666666666666\n",
            "Precision: 0.6984848484848486\n",
            "Recall: 0.6761904761904761\n",
            "F1 Score: 0.6666666666666666\n"
          ]
        }
      ]
    }
  ]
}